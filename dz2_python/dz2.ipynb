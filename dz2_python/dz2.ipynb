{
 "cells": [
  {
   "cell_type": "code",
   "execution_count": 2,
   "metadata": {},
   "outputs": [],
   "source": [
    "long_phrase = 'Насколько проще было бы писать программы, если бы не заказчики'\n",
    "short_phrase = '640Кб должно хватить для любых задач. Билл Гейтс (по легенде)'"
   ]
  },
  {
   "cell_type": "code",
   "execution_count": 3,
   "metadata": {},
   "outputs": [
    {
     "name": "stdout",
     "output_type": "stream",
     "text": [
      "True\n"
     ]
    }
   ],
   "source": [
    "if len(long_phrase)>len(short_phrase):\n",
    "    print(\"True\")\n",
    "else:\n",
    "    print(\"False\")"
   ]
  },
  {
   "cell_type": "code",
   "execution_count": 8,
   "metadata": {},
   "outputs": [
    {
     "name": "stdout",
     "output_type": "stream",
     "text": [
      "Введите объем файла в байтах30000\n",
      "Объем файла равен 0.0286102294921875 Mb\n"
     ]
    }
   ],
   "source": [
    "volume_byte=input(\"Введите объем файла в байтах\")\n",
    "print(\"Объем файла равен\", int(volume_byte) / (1024**2),\"Mb\")"
   ]
  },
  {
   "cell_type": "code",
   "execution_count": 44,
   "metadata": {},
   "outputs": [
    {
     "name": "stdout",
     "output_type": "stream",
     "text": [
      "Введите месяц рожденияавгуст\n",
      "Введите число рождения31\n",
      "Дева\n"
     ]
    }
   ],
   "source": [
    "month=input(\"Введите месяц рождения\")\n",
    "day=input(\"Введите число рождения\")\n",
    "if month == \"январь\":\n",
    "    if int(day)>=0 and int(day)<=20:\n",
    "        print(\"Козерог\")\n",
    "    elif int(day)>=21 and int(day)<=31:\n",
    "        print(\"Водолей\")\n",
    "    else:\n",
    "        print(\"Несуществующая дата\")\n",
    "elif month == \"февраль\":\n",
    "    if int(day)>=0 and int(day)<=18:\n",
    "        print(\"Водолей\")\n",
    "    elif int(day)>=19 and int(day)<=29:\n",
    "        print(\"Рыбы\")\n",
    "    else:\n",
    "        print(\"Несуществующая дата\")\n",
    "elif month == \"март\":\n",
    "    if int(day)>=0 and int(day)<=20:\n",
    "        print(\"Рыбы\")\n",
    "    elif int(day)>=21 and int(day)<=31:\n",
    "        print(\"Овен\")\n",
    "    else:\n",
    "        print(\"Несуществующая дата\")\n",
    "elif month == \"апрель\":\n",
    "    if int(day)>=0 and int(day)<=20:\n",
    "        print(\"Овен\")\n",
    "    elif int(day)>=21 and int(day)<=30:\n",
    "        print(\"Телец\")\n",
    "    else:\n",
    "        print(\"Несуществующая дата\")\n",
    "elif month == \"май\":\n",
    "    if int(day)>=0 and int(day)<=21:\n",
    "        print(\"Телец\")\n",
    "    elif int(day)>=22 and int(day)<=31:\n",
    "        print(\"Близнецы\")\n",
    "    else:\n",
    "        print(\"Несуществующая дата\")\n",
    "elif month == \"июнь\":\n",
    "    if int(day)>=0 and int(day)<=21:\n",
    "        print(\"Близнецы\")\n",
    "    elif int(day)>=22 and int(day)<=30:\n",
    "        print(\"Рак\")\n",
    "    else:\n",
    "        print(\"Несуществующая дата\")\n",
    "elif month == \"июль\":\n",
    "    if int(day)>=0 and int(day)<=22:\n",
    "        print(\"Рак\")\n",
    "    elif int(day)>=23 and int(day)<=31:\n",
    "        print(\"Лев\")\n",
    "    else:\n",
    "        print(\"Несуществующая дата\")\n",
    "elif month == \"август\":\n",
    "    if int(day)>=0 and int(day)<=23:\n",
    "        print(\"Лев\")\n",
    "    elif int(day)>=24 and int(day)<=31:\n",
    "        print(\"Дева\")\n",
    "    else:\n",
    "        print(\"Несуществующая дата\")\n",
    "elif month == \"сентябрь\":\n",
    "    if int(day)>=0 and int(day)<=23:\n",
    "        print(\"Дева\")\n",
    "    elif int(day)>=24 and int(day)<=30:\n",
    "        print(\"Весы\")\n",
    "    else:\n",
    "        print(\"Несуществующая дата\")\n",
    "elif month == \"октябрь\":\n",
    "    if int(day)>=0 and int(day)<=23:\n",
    "        print(\"Весы\")\n",
    "    elif int(day)>=24 and int(day)<=31:\n",
    "        print(\"Скорпион\")\n",
    "    else:\n",
    "        print(\"Несуществующая дата\")\n",
    "elif month == \"ноябрь\":\n",
    "    if int(day)>=0 and int(day)<=22:\n",
    "        print(\"Скорпион\")\n",
    "    elif int(day)>=23 and int(day)<=30:\n",
    "        print(\"Стрелец\")\n",
    "    else:\n",
    "        print(\"Несуществующая дата\")\n",
    "elif month == \"декабрь\":\n",
    "    if int(day)>=0 and int(day)<=21:\n",
    "        print(\"Стрелец\")\n",
    "    elif int(day)>=22 and int(day)<=31:\n",
    "        print(\"Козерог\")\n",
    "    else:\n",
    "        print(\"Несуществующая дата\")\n",
    "else:\n",
    "    print(\"Проверьте название месяца и напишите его с маленькой буквы\")"
   ]
  },
  {
   "cell_type": "code",
   "execution_count": 47,
   "metadata": {},
   "outputs": [
    {
     "name": "stdout",
     "output_type": "stream",
     "text": [
      "Введите заработанную плату в месяц100000\n",
      "Введите сколько процентов уходит на ипотеку50\n",
      "Введите сколько процентов уходит на жизнь30\n",
      "Введите количество премий за год4\n",
      "На ипотеку было потрачено: 600000.0 рублей. Было накоплено: 440000.0 рублей\n"
     ]
    }
   ],
   "source": [
    "salary=input(\"Введите заработанную плату в месяц\")\n",
    "mortgage=input(\"Введите сколько процентов уходит на ипотеку\")\n",
    "life=input(\"Введите сколько процентов уходит на жизнь\")\n",
    "bonus=input(\"Введите количество премий за год\")\n",
    "mortgage_year=int(salary) * int(mortgage) / 100 * 12\n",
    "life_year=int(salary) * int(life) / 100 * 12\n",
    "bonus_year=int(bonus) * int(salary)\n",
    "savings=int(salary) * 12 + 0.5 * bonus_year - mortgage_year - life_year\n",
    "print(\"На ипотеку было потрачено:\", mortgage_year, \"рублей. Было накоплено:\", savings, \"рублей\")"
   ]
  },
  {
   "cell_type": "code",
   "execution_count": null,
   "metadata": {},
   "outputs": [],
   "source": []
  }
 ],
 "metadata": {
  "kernelspec": {
   "display_name": "Python 3",
   "language": "python",
   "name": "python3"
  }
 },
 "nbformat": 4,
 "nbformat_minor": 4
}
